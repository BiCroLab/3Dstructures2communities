{
 "cells": [
  {
   "cell_type": "markdown",
   "metadata": {},
   "source": [
    "## Examples of spatial pattern detection in genome ensembles"
   ]
  },
  {
   "cell_type": "markdown",
   "metadata": {},
   "source": [
    "IF needed, install the following pip packages in the current Jupyter kernel:"
   ]
  },
  {
   "cell_type": "code",
   "execution_count": 13,
   "metadata": {},
   "outputs": [
    {
     "name": "stdout",
     "output_type": "stream",
     "text": [
      "Requirement already satisfied: cdlib in /home/garner1/miniconda3/lib/python3.7/site-packages (0.1.8)\n",
      "Requirement already satisfied: eva-lcd in /home/garner1/miniconda3/lib/python3.7/site-packages (from cdlib) (0.1.0)\n",
      "Requirement already satisfied: pquality==0.0.7 in /home/garner1/miniconda3/lib/python3.7/site-packages (from cdlib) (0.0.7)\n",
      "Requirement already satisfied: networkx<2.4,>=2.2 in /home/garner1/miniconda3/lib/python3.7/site-packages (from cdlib) (2.3)\n",
      "Requirement already satisfied: pandas>=0.24 in /home/garner1/miniconda3/lib/python3.7/site-packages (from cdlib) (0.25.1)\n",
      "Requirement already satisfied: pulp==1.6.* in /home/garner1/miniconda3/lib/python3.7/site-packages (from cdlib) (1.6.10)\n",
      "Requirement already satisfied: demon>=2.0.* in /home/garner1/miniconda3/lib/python3.7/site-packages (from cdlib) (2.0.5)\n",
      "Requirement already satisfied: tqdm>=4.20.* in /home/garner1/miniconda3/lib/python3.7/site-packages (from cdlib) (4.36.1)\n",
      "Requirement already satisfied: matplotlib>=3.0.* in /home/garner1/miniconda3/lib/python3.7/site-packages (from cdlib) (3.1.1)\n",
      "Requirement already satisfied: seaborn>=0.9.* in /home/garner1/miniconda3/lib/python3.7/site-packages (from cdlib) (0.9.0)\n",
      "Requirement already satisfied: bimlpa in /home/garner1/miniconda3/lib/python3.7/site-packages (from cdlib) (0.1.2)\n",
      "Requirement already satisfied: mock==3.0.* in /home/garner1/miniconda3/lib/python3.7/site-packages (from cdlib) (3.0.5)\n",
      "Requirement already satisfied: sphinx-rtd-theme==0.4.* in /home/garner1/miniconda3/lib/python3.7/site-packages (from cdlib) (0.4.3)\n",
      "Requirement already satisfied: python-louvain==0.13 in /home/garner1/miniconda3/lib/python3.7/site-packages (from cdlib) (0.13)\n",
      "Requirement already satisfied: sphinx==1.7.5 in /home/garner1/miniconda3/lib/python3.7/site-packages (from cdlib) (1.7.5)\n",
      "Requirement already satisfied: nf1 in /home/garner1/miniconda3/lib/python3.7/site-packages (from cdlib) (0.0.3)\n",
      "Requirement already satisfied: scikit-learn>=0.21.* in /home/garner1/miniconda3/lib/python3.7/site-packages (from cdlib) (0.23.2)\n",
      "Requirement already satisfied: future>=0.16.* in /home/garner1/miniconda3/lib/python3.7/site-packages (from cdlib) (0.18.2)\n",
      "Requirement already satisfied: numpy>=1.15.* in /home/garner1/miniconda3/lib/python3.7/site-packages (from cdlib) (1.17.1)\n",
      "Requirement already satisfied: karateclub in /home/garner1/miniconda3/lib/python3.7/site-packages (from cdlib) (0.45.29)\n",
      "Requirement already satisfied: omega-index-py3 in /home/garner1/miniconda3/lib/python3.7/site-packages (from cdlib) (0.3)\n",
      "Requirement already satisfied: scipy>=1.3.* in /home/garner1/miniconda3/lib/python3.7/site-packages (from cdlib) (1.3.2)\n",
      "Requirement already satisfied: decorator>=4.3.0 in /home/garner1/miniconda3/lib/python3.7/site-packages (from networkx<2.4,>=2.2->cdlib) (4.4.1)\n",
      "Requirement already satisfied: python-dateutil>=2.6.1 in /home/garner1/miniconda3/lib/python3.7/site-packages (from pandas>=0.24->cdlib) (2.8.1)\n",
      "Requirement already satisfied: pytz>=2017.2 in /home/garner1/miniconda3/lib/python3.7/site-packages (from pandas>=0.24->cdlib) (2019.3)\n",
      "Requirement already satisfied: pyparsing>=2.0.1 in /home/garner1/miniconda3/lib/python3.7/site-packages (from pulp==1.6.*->cdlib) (2.4.5)\n",
      "Requirement already satisfied: cycler>=0.10 in /home/garner1/miniconda3/lib/python3.7/site-packages (from matplotlib>=3.0.*->cdlib) (0.10.0)\n",
      "Requirement already satisfied: kiwisolver>=1.0.1 in /home/garner1/miniconda3/lib/python3.7/site-packages (from matplotlib>=3.0.*->cdlib) (1.1.0)\n",
      "Requirement already satisfied: six in /home/garner1/miniconda3/lib/python3.7/site-packages (from mock==3.0.*->cdlib) (1.12.0)\n",
      "Requirement already satisfied: packaging in /home/garner1/miniconda3/lib/python3.7/site-packages (from sphinx==1.7.5->cdlib) (20.3)\n",
      "Requirement already satisfied: imagesize in /home/garner1/miniconda3/lib/python3.7/site-packages (from sphinx==1.7.5->cdlib) (1.2.0)\n",
      "Requirement already satisfied: snowballstemmer>=1.1 in /home/garner1/miniconda3/lib/python3.7/site-packages (from sphinx==1.7.5->cdlib) (2.0.0)\n",
      "Requirement already satisfied: docutils>=0.11 in /home/garner1/miniconda3/lib/python3.7/site-packages (from sphinx==1.7.5->cdlib) (0.16)\n",
      "Requirement already satisfied: setuptools in /home/garner1/miniconda3/lib/python3.7/site-packages (from sphinx==1.7.5->cdlib) (41.2.0)\n",
      "Requirement already satisfied: requests>=2.0.0 in /home/garner1/miniconda3/lib/python3.7/site-packages (from sphinx==1.7.5->cdlib) (2.24.0)\n",
      "Requirement already satisfied: sphinxcontrib-websupport in /home/garner1/miniconda3/lib/python3.7/site-packages (from sphinx==1.7.5->cdlib) (1.2.1)\n",
      "Requirement already satisfied: babel!=2.0,>=1.3 in /home/garner1/miniconda3/lib/python3.7/site-packages (from sphinx==1.7.5->cdlib) (2.8.0)\n",
      "Requirement already satisfied: Pygments>=2.0 in /home/garner1/miniconda3/lib/python3.7/site-packages (from sphinx==1.7.5->cdlib) (2.4.2)\n",
      "Requirement already satisfied: alabaster<0.8,>=0.7 in /home/garner1/miniconda3/lib/python3.7/site-packages (from sphinx==1.7.5->cdlib) (0.7.12)\n",
      "Requirement already satisfied: Jinja2>=2.3 in /home/garner1/miniconda3/lib/python3.7/site-packages (from sphinx==1.7.5->cdlib) (2.10.3)\n",
      "Requirement already satisfied: threadpoolctl>=2.0.0 in /home/garner1/miniconda3/lib/python3.7/site-packages (from scikit-learn>=0.21.*->cdlib) (2.1.0)\n",
      "Requirement already satisfied: joblib>=0.11 in /home/garner1/miniconda3/lib/python3.7/site-packages (from scikit-learn>=0.21.*->cdlib) (0.14.0)\n",
      "Requirement already satisfied: sklearn in /home/garner1/miniconda3/lib/python3.7/site-packages (from karateclub->cdlib) (0.0)\n",
      "Requirement already satisfied: gensim in /home/garner1/miniconda3/lib/python3.7/site-packages (from karateclub->cdlib) (3.8.1)\n",
      "Requirement already satisfied: pygsp in /home/garner1/miniconda3/lib/python3.7/site-packages (from karateclub->cdlib) (0.5.1)\n",
      "Requirement already satisfied: urllib3!=1.25.0,!=1.25.1,<1.26,>=1.21.1 in /home/garner1/miniconda3/lib/python3.7/site-packages (from requests>=2.0.0->sphinx==1.7.5->cdlib) (1.24.2)\n",
      "Requirement already satisfied: chardet<4,>=3.0.2 in /home/garner1/miniconda3/lib/python3.7/site-packages (from requests>=2.0.0->sphinx==1.7.5->cdlib) (3.0.4)\n",
      "Requirement already satisfied: idna<3,>=2.5 in /home/garner1/miniconda3/lib/python3.7/site-packages (from requests>=2.0.0->sphinx==1.7.5->cdlib) (2.8)\n",
      "Requirement already satisfied: certifi>=2017.4.17 in /home/garner1/miniconda3/lib/python3.7/site-packages (from requests>=2.0.0->sphinx==1.7.5->cdlib) (2019.11.28)\n",
      "Requirement already satisfied: MarkupSafe>=0.23 in /home/garner1/miniconda3/lib/python3.7/site-packages (from Jinja2>=2.3->sphinx==1.7.5->cdlib) (1.1.1)\n",
      "Requirement already satisfied: smart-open>=1.8.1 in /home/garner1/miniconda3/lib/python3.7/site-packages (from gensim->karateclub->cdlib) (1.10.0)\n",
      "Requirement already satisfied: google-cloud-storage in /home/garner1/miniconda3/lib/python3.7/site-packages (from smart-open>=1.8.1->gensim->karateclub->cdlib) (1.26.0)\n",
      "Requirement already satisfied: boto3 in /home/garner1/miniconda3/lib/python3.7/site-packages (from smart-open>=1.8.1->gensim->karateclub->cdlib) (1.12.26)\n",
      "Requirement already satisfied: google-auth<2.0dev,>=1.11.0 in /home/garner1/miniconda3/lib/python3.7/site-packages (from google-cloud-storage->smart-open>=1.8.1->gensim->karateclub->cdlib) (1.11.3)\n",
      "Requirement already satisfied: google-cloud-core<2.0dev,>=1.2.0 in /home/garner1/miniconda3/lib/python3.7/site-packages (from google-cloud-storage->smart-open>=1.8.1->gensim->karateclub->cdlib) (1.3.0)\n",
      "Requirement already satisfied: google-resumable-media<0.6dev,>=0.5.0 in /home/garner1/miniconda3/lib/python3.7/site-packages (from google-cloud-storage->smart-open>=1.8.1->gensim->karateclub->cdlib) (0.5.0)\n",
      "Requirement already satisfied: botocore<1.16.0,>=1.15.26 in /home/garner1/miniconda3/lib/python3.7/site-packages (from boto3->smart-open>=1.8.1->gensim->karateclub->cdlib) (1.15.26)\n",
      "Requirement already satisfied: jmespath<1.0.0,>=0.7.1 in /home/garner1/miniconda3/lib/python3.7/site-packages (from boto3->smart-open>=1.8.1->gensim->karateclub->cdlib) (0.9.5)\n",
      "Requirement already satisfied: s3transfer<0.4.0,>=0.3.0 in /home/garner1/miniconda3/lib/python3.7/site-packages (from boto3->smart-open>=1.8.1->gensim->karateclub->cdlib) (0.3.3)\n",
      "Requirement already satisfied: rsa<4.1,>=3.1.4 in /home/garner1/miniconda3/lib/python3.7/site-packages (from google-auth<2.0dev,>=1.11.0->google-cloud-storage->smart-open>=1.8.1->gensim->karateclub->cdlib) (4.0)\n",
      "Requirement already satisfied: pyasn1-modules>=0.2.1 in /home/garner1/miniconda3/lib/python3.7/site-packages (from google-auth<2.0dev,>=1.11.0->google-cloud-storage->smart-open>=1.8.1->gensim->karateclub->cdlib) (0.2.8)\n",
      "Requirement already satisfied: cachetools<5.0,>=2.0.0 in /home/garner1/miniconda3/lib/python3.7/site-packages (from google-auth<2.0dev,>=1.11.0->google-cloud-storage->smart-open>=1.8.1->gensim->karateclub->cdlib) (4.0.0)\n",
      "Requirement already satisfied: google-api-core<2.0.0dev,>=1.16.0 in /home/garner1/miniconda3/lib/python3.7/site-packages (from google-cloud-core<2.0dev,>=1.2.0->google-cloud-storage->smart-open>=1.8.1->gensim->karateclub->cdlib) (1.16.0)\n",
      "Requirement already satisfied: pyasn1>=0.1.3 in /home/garner1/miniconda3/lib/python3.7/site-packages (from rsa<4.1,>=3.1.4->google-auth<2.0dev,>=1.11.0->google-cloud-storage->smart-open>=1.8.1->gensim->karateclub->cdlib) (0.4.8)\n"
     ]
    },
    {
     "name": "stdout",
     "output_type": "stream",
     "text": [
      "Requirement already satisfied: googleapis-common-protos<2.0dev,>=1.6.0 in /home/garner1/miniconda3/lib/python3.7/site-packages (from google-api-core<2.0.0dev,>=1.16.0->google-cloud-core<2.0dev,>=1.2.0->google-cloud-storage->smart-open>=1.8.1->gensim->karateclub->cdlib) (1.51.0)\n",
      "Requirement already satisfied: protobuf>=3.4.0 in /home/garner1/miniconda3/lib/python3.7/site-packages (from google-api-core<2.0.0dev,>=1.16.0->google-cloud-core<2.0dev,>=1.2.0->google-cloud-storage->smart-open>=1.8.1->gensim->karateclub->cdlib) (3.11.3)\n",
      "Requirement already satisfied: networkx in /home/garner1/miniconda3/lib/python3.7/site-packages (2.3)\n",
      "Requirement already satisfied: decorator>=4.3.0 in /home/garner1/miniconda3/lib/python3.7/site-packages (from networkx) (4.4.1)\n",
      "Collecting umap\n",
      "  Downloading umap-0.1.1.tar.gz (3.2 kB)\n",
      "Building wheels for collected packages: umap\n",
      "  Building wheel for umap (setup.py) ... \u001b[?25ldone\n",
      "\u001b[?25h  Created wheel for umap: filename=umap-0.1.1-py3-none-any.whl size=3566 sha256=7a8d3c3c7f010ecc2edca99bf8323a4cd54074eaefe62b552cac6ab44dad6bf9\n",
      "  Stored in directory: /home/garner1/.cache/pip/wheels/65/55/85/945cfb3d67373767e4dc3e9629300a926edde52633df4f0efe\n",
      "Successfully built umap\n",
      "Installing collected packages: umap\n",
      "Successfully installed umap-0.1.1\n"
     ]
    }
   ],
   "source": [
    "import sys\n",
    "!{sys.executable} -m pip install cdlib\n",
    "!{sys.executable} -m pip install networkx\n",
    "!{sys.executable} -m pip install umap"
   ]
  },
  {
   "cell_type": "markdown",
   "metadata": {},
   "source": [
    "Load the required libraries:"
   ]
  },
  {
   "cell_type": "code",
   "execution_count": 14,
   "metadata": {},
   "outputs": [],
   "source": [
    "import numpy as np\n",
    "import umap\n",
    "\n",
    "import cdlib\n",
    "from cdlib import algorithms\n",
    "import networkx as nx\n",
    "from  scipy import sparse\n",
    "\n",
    "import warnings\n",
    "warnings.filterwarnings('ignore')"
   ]
  },
  {
   "cell_type": "markdown",
   "metadata": {},
   "source": [
    "The set of functions used in the example:"
   ]
  },
  {
   "cell_type": "code",
   "execution_count": 15,
   "metadata": {},
   "outputs": [],
   "source": [
    "def build_graph(XYZ):\n",
    "    \"\"\"\n",
    "    Input: a thin array of (x,y,z) coordinates\n",
    "    Output: the weighted adjacency matrix of the UMAP graph representation\n",
    "    Parameters: n_neighbors is the most important parameter in the umap fuzzy_simplicial_set function. It will determine how sparse the final graph will be.\n",
    "    \"\"\"\n",
    "    adj = umap.umap_.fuzzy_simplicial_set(\n",
    "        XYZ,\n",
    "        n_neighbors=5, # this parameter has to be fine-tuned\n",
    "        random_state=np.random.RandomState(seed=42),\n",
    "        metric='l2',\n",
    "        metric_kwds={},\n",
    "        knn_indices=None,\n",
    "        knn_dists=None,\n",
    "        angular=False,\n",
    "        set_op_mix_ratio=1.0,\n",
    "        local_connectivity=2.0,\n",
    "        verbose=False\n",
    "        )\n",
    "    return adj\n",
    "\n",
    "def build_communities(adj):\n",
    "    \"\"\"\n",
    "    Input: the weighted graph adjacency matrix\n",
    "    Output: a list of communities, each one a represented as a list object\n",
    "    \n",
    "    In this example we use the leiden algorithm as implemented in the cdlib library.\n",
    "    \"\"\"\n",
    "    g = nx.from_scipy_sparse_matrix(adj) # generate a graph networkx obj\n",
    "    eset = [(u, v) for (u, v, d) in g.edges(data=True)] # get list of edges from graph\n",
    "    weights = [d['weight'] for (u, v, d) in g.edges(data=True)] # get list of weights from edges\n",
    "    # find communities\n",
    "    # in this example we use the Leiden algorithm\n",
    "    leiden_coms = algorithms.leiden(g,weights=weights) # check if the algo is stochastic, in that case set rnd generator    \n",
    "    return leiden_coms.communities # a list of lists of nodes"
   ]
  },
  {
   "cell_type": "markdown",
   "metadata": {},
   "source": [
    "Now create 100 random 3D structures (each composed of 1000 bins) and save them in the data directory as a numpy array named 'random_points.npy':"
   ]
  },
  {
   "cell_type": "code",
   "execution_count": 16,
   "metadata": {},
   "outputs": [],
   "source": [
    "structures = np.random.default_rng().uniform(-100,100,(1000,3,100))\n",
    "np.save('../data/random_points', structures)"
   ]
  },
  {
   "cell_type": "markdown",
   "metadata": {},
   "source": [
    "Load the structures from the data directory.\n",
    "The shape of the array is given by (#bins, #spatial_dim, #random_realizations)."
   ]
  },
  {
   "cell_type": "code",
   "execution_count": 17,
   "metadata": {},
   "outputs": [
    {
     "name": "stdout",
     "output_type": "stream",
     "text": [
      "(1000, 3, 100)\n"
     ]
    }
   ],
   "source": [
    "structures = np.load('../data/random_points.npy')\n",
    "print(structures.shape)"
   ]
  },
  {
   "cell_type": "markdown",
   "metadata": {},
   "source": [
    "Define some constant variable used during the example:"
   ]
  },
  {
   "cell_type": "code",
   "execution_count": 11,
   "metadata": {},
   "outputs": [],
   "source": [
    "max_numb_str = 10 # the maximum numb of structure to consider. In principle all structure should be considered, but to speed up the example evaluation we can limit this value.\n",
    "numb_str = structures.shape[2] # the number of random realizations\n",
    "numb_loci = structures.shape[0] # the number of binned loci in each realization/structure"
   ]
  },
  {
   "cell_type": "markdown",
   "metadata": {},
   "source": [
    "# From 3D structures to graphs \n",
    "Each structure is a very detailed representation of the genome spatial arrangment. We assume that not all this information can be accessed experimentally with full precision. We then relax the representation in such a way that the focus is placed on a more robust part. We do this mapping each 3D structure to a corresponding topological graph, as constructed in the intermediate step of the UMAP algorithm. At a given length scale, specified by the number of nearest neighbors to each node of the graph, the graph represent the proximity information around each locus on the genome in terms of weighted edges.\n",
    "\n",
    "# Communities\n",
    "If we are interested in identifying similar groups of nodes, based on their graph representation, we have to look for nodes that share heavy-weighted edges. This problem is well known and referred to as community detection. There are many algorithms providing different euristic approaches to community detection. In this example we use probably the most common one: the Leiden algorithm."
   ]
  },
  {
   "cell_type": "markdown",
   "metadata": {},
   "source": [
    "We loop over all structures, map them to graph and find their communities (loci clusters):"
   ]
  },
  {
   "cell_type": "code",
   "execution_count": 12,
   "metadata": {},
   "outputs": [],
   "source": [
    "# Map each structure to a weighted graph\n",
    "# In this example we use UMAP\n",
    "comm = {} # communities are a python dictionary with structures as keys\n",
    "for structure in range(numb_str)[:max_numb_str]: # for each structure\n",
    "    XYZ = structures[:,:,structure] # get the x,y,z coordinates\n",
    "    adj = build_graph(XYZ) # get the graph\n",
    "    comm[structure] = build_communities(adj) # get the communities of the graph"
   ]
  },
  {
   "cell_type": "markdown",
   "metadata": {},
   "source": [
    "# Recurrent communities\n",
    "Once we have all the communities for all the structures in our ensemble, we determine the recurrent patterns:\n",
    "for a given pair of loci (i,j) -in a given structure- we count how many times we see that pair inside the same community over all structures. \n",
    "\n",
    "This provide us a frequency matrix P, similar to the HiC matrix. We can then study P, similarly to how we would study a contact matrix, having access to many more information on the single realization of each structures though. So fluctuations can be taken into account, in addition to the average informartion. "
   ]
  },
  {
   "cell_type": "code",
   "execution_count": 166,
   "metadata": {},
   "outputs": [],
   "source": [
    "# The matrix P is the analog of the HiC matrix:\n",
    "# P(i,j) = # times loci (i,j) occur together \n",
    "for structure in range(numb_str)[:max_numb_str]: # for each structure\n",
    "    for c in range(len(comm[structure])):        # for each community in the given structure\n",
    "        if c == 0: # for the first community define the graph G\n",
    "            G = nx.complete_graph(comm[structure][c])\n",
    "        else: # for the other communities update G\n",
    "            G.update(nx.complete_graph(comm[structure][c]))\n",
    "    if structure == 0: # for the first structure define the sparse matrix P\n",
    "        P = nx.to_scipy_sparse_matrix(G, nodelist=range(numb_loci))\n",
    "    else: # for the other structures add to P\n",
    "        P += nx.to_scipy_sparse_matrix(G, nodelist=range(numb_loci)) \n",
    "    #print(P.nnz)"
   ]
  },
  {
   "cell_type": "markdown",
   "metadata": {},
   "source": [
    "# Non-negative Matrix Factorization (NMF)\n",
    "\n",
    "A different approach, which does not rely on build the matrix P, could be the following:\n",
    "\n",
    "1. Consider the array V(i,j,s), where i is the i-th locus, j is the j-th locus and s is the s-th 3D structure: the (i,j,s)-th entry of this array is 1 if (i,j) belong to the same community in the s-th structure\n",
    "\n",
    "2. Reshape the 3-way array V into a 2-way array V(ij,s) \n",
    "\n",
    "3. Use NMF on V(ij,s) to determine it latent structural factors: V(ij,s) = \\sum_k W(ij,k) * H(k,s) "
   ]
  },
  {
   "cell_type": "code",
   "execution_count": 186,
   "metadata": {},
   "outputs": [],
   "source": [
    "# Use NMF to decompose the V matrix similarly to what is done in word X document decomposition \n",
    "# The matrix V is #pairs X #structures matrix:\n",
    "# V[(i,j),s] = 1 if the pair of loci (i,j) occurs in structure s\n",
    "\n",
    "for structure in range(numb_str)[:max_numb_str]: # for each structure\n",
    "    for c in range(len(comm[structure])):        # for each community in the given structure\n",
    "        if c == 0: # for the first community define the graph G\n",
    "            G = nx.complete_graph(comm[structure][c])\n",
    "        else: # for the other communities update G\n",
    "            G.update(nx.complete_graph(comm[structure][c]))\n",
    "    \n",
    "    if structure == 0: # for the first structure define the sparse matrix sparse_structure_2d\n",
    "        node_i = [e[0] for e in G.edges]\n",
    "        node_j = [e[1] for e in G.edges]\n",
    "        s = [structure for e in G.edges]\n",
    "        sparse_structure = sparse.coo_matrix((s, (node_i, node_j)), \n",
    "                                             shape=(numb_loci, numb_loci), dtype=np.int8)\n",
    "        # reshape to 1d sparse array\n",
    "        sparse_structure_1d = sparse_structure.reshape((numb_loci*numb_loci,1))\n",
    "        # build the 2d edgesXstructure sparse array:\n",
    "        rows = sparse_structure_1d.row # the occurring pairs\n",
    "        cols = [v for v in sparse_structure_1d.data] # the occurring structures\n",
    "        data = [1]*len(sparse_structure_1d.data) # 1 if loci pair is in structures\n",
    "        V = sparse.coo_matrix((data, (rows, cols)),\n",
    "                              shape=(numb_loci*numb_loci,max_numb_str),\n",
    "                              dtype=np.int8) # define the V matrix\n",
    "    else:\n",
    "        node_i = [e[0] for e in G.edges]\n",
    "        node_j = [e[1] for e in G.edges]\n",
    "        s = [structure for e in G.edges]\n",
    "        sparse_structure = sparse.coo_matrix((s, (node_i, node_j)), \n",
    "                                             shape=(numb_loci, numb_loci), dtype=np.int8)\n",
    "        # reshape to 1d sparse array\n",
    "        sparse_structure_1d = sparse_structure.reshape((numb_loci*numb_loci,1))\n",
    "        # build the new 2d edgesXstructure sparse array:\n",
    "        rows = sparse_structure_1d.row\n",
    "        cols = [v for v in sparse_structure_1d.data]\n",
    "        data = [1]*len(sparse_structure_1d.data)\n",
    "        # concatenate old and new data\n",
    "        data = np.concatenate((V.data, data))\n",
    "        rows = np.concatenate((V.row, rows))\n",
    "        cols = np.concatenate((V.col, cols))\n",
    "        V = sparse.coo_matrix((data, (rows, cols)),\n",
    "                              shape=(numb_loci*numb_loci,max_numb_str),\n",
    "                              dtype=np.int8) # update the V matrix"
   ]
  },
  {
   "cell_type": "code",
   "execution_count": 187,
   "metadata": {},
   "outputs": [],
   "source": [
    "from sklearn.decomposition import NMF\n",
    "model = NMF(n_components=2, init='nndsvd', random_state=0)\n",
    "W = model.fit_transform(V)\n",
    "H = model.components_"
   ]
  },
  {
   "cell_type": "code",
   "execution_count": 200,
   "metadata": {},
   "outputs": [
    {
     "data": {
      "text/plain": [
       "(array([19]), array([88]))"
      ]
     },
     "execution_count": 200,
     "metadata": {},
     "output_type": "execute_result"
    }
   ],
   "source": [
    "# Get the node_i and node_j labels from the rows of the V matrix\n",
    "row_V_matrix = 19088\n",
    "np.unravel_index([row_V_matrix],  (numb_loci,numb_loci))"
   ]
  }
 ],
 "metadata": {
  "kernelspec": {
   "display_name": "Python 3",
   "language": "python",
   "name": "python3"
  },
  "language_info": {
   "codemirror_mode": {
    "name": "ipython",
    "version": 3
   },
   "file_extension": ".py",
   "mimetype": "text/x-python",
   "name": "python",
   "nbconvert_exporter": "python",
   "pygments_lexer": "ipython3",
   "version": "3.7.4"
  }
 },
 "nbformat": 4,
 "nbformat_minor": 2
}
